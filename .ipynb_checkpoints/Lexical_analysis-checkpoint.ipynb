{
 "cells": [
  {
   "cell_type": "markdown",
   "metadata": {},
   "source": [
    "# Лексичний аналізатор\n",
    "\n",
    "Алфавіт - літери прізвища кирилицею.\n",
    "\n"
   ]
  },
  {
   "cell_type": "code",
   "execution_count": 91,
   "metadata": {},
   "outputs": [],
   "source": [
    "import re"
   ]
  },
  {
   "cell_type": "code",
   "execution_count": 92,
   "metadata": {},
   "outputs": [],
   "source": [
    "surname = \"козопас\"\n",
    "alphabet = [x for x in surname+surname.upper()]\n",
    "delimiters = '.,!?<>()'"
   ]
  },
  {
   "cell_type": "markdown",
   "metadata": {},
   "source": [
    "> Слово (літери з алфавіту; лише перша літера може бути великою)"
   ]
  },
  {
   "cell_type": "code",
   "execution_count": 93,
   "metadata": {},
   "outputs": [],
   "source": [
    "def isWord(input):\n",
    "    return bool(re.compile(r\"^[КОЗОПАСкозопас]$|^[КОЗОПАСкозопас][козопас]+$\").match(input))"
   ]
  },
  {
   "cell_type": "markdown",
   "metadata": {},
   "source": [
    "> Ідентифікатор (послідовність літер, цифр, '_')"
   ]
  },
  {
   "cell_type": "code",
   "execution_count": 94,
   "metadata": {},
   "outputs": [],
   "source": [
    "def isIdentifier(input):\n",
    "    return bool(re.compile(r\"^[_КОЗОПАСкозопас][КОЗОПАСкозопас0-9_]+$\").match(input)) "
   ]
  },
  {
   "cell_type": "markdown",
   "metadata": {},
   "source": [
    "> Формат числа"
   ]
  },
  {
   "cell_type": "code",
   "execution_count": 95,
   "metadata": {},
   "outputs": [],
   "source": [
    "def isDecimal(input):\n",
    "    return bool(re.compile(r\"^[-+]?[0-9]*[.,][0-9]+(?:[eE][-+]?[0-9]+)?$\").match(input))"
   ]
  },
  {
   "cell_type": "markdown",
   "metadata": {},
   "source": [
    "> E-mail"
   ]
  },
  {
   "cell_type": "code",
   "execution_count": 96,
   "metadata": {},
   "outputs": [],
   "source": [
    "def isEmail(input):\n",
    "    return bool(re.compile(r\"^\\w+@[a-zA-Z_]+?\\.[a-zA-Z]{2,3}$\").match(input))"
   ]
  },
  {
   "cell_type": "markdown",
   "metadata": {},
   "source": [
    "> Return delimiters present in text"
   ]
  },
  {
   "cell_type": "code",
   "execution_count": 97,
   "metadata": {},
   "outputs": [],
   "source": [
    "def findDelimiters(input):\n",
    "    return [x for x in delimiters if x in input]"
   ]
  },
  {
   "cell_type": "markdown",
   "metadata": {},
   "source": [
    "### Функція-аналізатор"
   ]
  },
  {
   "cell_type": "code",
   "execution_count": 98,
   "metadata": {},
   "outputs": [],
   "source": [
    "def analyse(text):\n",
    "    dictionary = {\n",
    "        \"words\" : [],\n",
    "        \"identifiers\" : [],\n",
    "        \"decimals\" : [],\n",
    "        \"emails\" : [],\n",
    "        \"delimiters\" : [],\n",
    "        \"wrong_words\" : []\n",
    "    }\n",
    "    dictionary[\"delimiters\"] = findDelimiters(text)\n",
    "    \n",
    "    listOfLexems = [x.strip(delimiters) for x in text.split()]\n",
    "    for lexem in listOfLexems:\n",
    "        if isWord(lexem):\n",
    "            dictionary[\"words\"].append(lexem)\n",
    "        elif isIdentifier(lexem):\n",
    "            dictionary[\"identifiers\"].append(lexem)\n",
    "        elif isDecimal(lexem):\n",
    "            dictionary[\"decimals\"].append(lexem)\n",
    "        elif isEmail(lexem):\n",
    "            dictionary[\"emails\"].append(lexem)\n",
    "        else:\n",
    "            dictionary[\"wrong_words\"].append(lexem)\n",
    "        \n",
    "    return dictionary"
   ]
  },
  {
   "cell_type": "markdown",
   "metadata": {},
   "source": [
    "### Тест"
   ]
  },
  {
   "cell_type": "code",
   "execution_count": 101,
   "metadata": {},
   "outputs": [
    {
     "name": "stdout",
     "output_type": "stream",
     "text": [
      "words           коз\n",
      "identifiers     коз123\t_пас\n",
      "decimals        +5.0\t12.75\t45.6e+0\n",
      "emails          koz@gmail.com\n",
      "delimiters      .\t,\t!\n",
      "wrong_words     олдж\t1коз\t123\ttext\tdel\n"
     ]
    }
   ],
   "source": [
    "textToTest = \"коз олдж коз123 _пас 1коз 123 +5.0 12.75 45.6e+0 koz@gmail.com text, del!\"\n",
    "\n",
    "for key, value in analyse(textToTest).items():\n",
    "    print(\"{:<15} {}\".format(key, \"\\t\".join(value)))"
   ]
  }
 ],
 "metadata": {
  "kernelspec": {
   "display_name": "Python 3",
   "language": "python",
   "name": "python3"
  },
  "language_info": {
   "codemirror_mode": {
    "name": "ipython",
    "version": 3
   },
   "file_extension": ".py",
   "mimetype": "text/x-python",
   "name": "python",
   "nbconvert_exporter": "python",
   "pygments_lexer": "ipython3",
   "version": "3.6.4"
  }
 },
 "nbformat": 4,
 "nbformat_minor": 2
}
